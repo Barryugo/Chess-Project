{
 "cells": [
  {
   "cell_type": "code",
   "execution_count": 1,
   "metadata": {},
   "outputs": [],
   "source": [
    "import pandas as pd"
   ]
  },
  {
   "cell_type": "code",
   "execution_count": 2,
   "metadata": {},
   "outputs": [
    {
     "data": {
      "text/html": [
       "<div>\n",
       "<style scoped>\n",
       "    .dataframe tbody tr th:only-of-type {\n",
       "        vertical-align: middle;\n",
       "    }\n",
       "\n",
       "    .dataframe tbody tr th {\n",
       "        vertical-align: top;\n",
       "    }\n",
       "\n",
       "    .dataframe thead th {\n",
       "        text-align: right;\n",
       "    }\n",
       "</style>\n",
       "<table border=\"1\" class=\"dataframe\">\n",
       "  <thead>\n",
       "    <tr style=\"text-align: right;\">\n",
       "      <th></th>\n",
       "      <th>Name</th>\n",
       "      <th>Fide ID</th>\n",
       "      <th>Nascimento</th>\n",
       "      <th>Place of Birth</th>\n",
       "      <th>Death</th>\n",
       "      <th>Date they became Grandmaster</th>\n",
       "      <th>Federation</th>\n",
       "      <th>Sexo</th>\n",
       "      <th>Age they became Grandmaster</th>\n",
       "    </tr>\n",
       "  </thead>\n",
       "  <tbody>\n",
       "    <tr>\n",
       "      <th>0</th>\n",
       "      <td>Aagaard, Jacob</td>\n",
       "      <td>1401815.0</td>\n",
       "      <td>1973-07-31 00:00:00</td>\n",
       "      <td>Hørsholm</td>\n",
       "      <td>NaN</td>\n",
       "      <td>2007</td>\n",
       "      <td>Denmark • Scotland</td>\n",
       "      <td>M</td>\n",
       "      <td>34.0</td>\n",
       "    </tr>\n",
       "    <tr>\n",
       "      <th>1</th>\n",
       "      <td>Abasov, Nijat</td>\n",
       "      <td>13402960.0</td>\n",
       "      <td>1995-05-14 00:00:00</td>\n",
       "      <td>Baku</td>\n",
       "      <td>NaN</td>\n",
       "      <td>2011</td>\n",
       "      <td>Azerbaijan</td>\n",
       "      <td>M</td>\n",
       "      <td>16.0</td>\n",
       "    </tr>\n",
       "    <tr>\n",
       "      <th>2</th>\n",
       "      <td>Abbasifar, Hasan</td>\n",
       "      <td>12501000.0</td>\n",
       "      <td>1972-09-12 00:00:00</td>\n",
       "      <td>Shiraz</td>\n",
       "      <td>NaN</td>\n",
       "      <td>2013</td>\n",
       "      <td>Iran</td>\n",
       "      <td>M</td>\n",
       "      <td>41.0</td>\n",
       "    </tr>\n",
       "    <tr>\n",
       "      <th>3</th>\n",
       "      <td>Abbasov, Farid</td>\n",
       "      <td>13400665.0</td>\n",
       "      <td>1979-01-31 00:00:00</td>\n",
       "      <td>Baku</td>\n",
       "      <td>NaN</td>\n",
       "      <td>2007</td>\n",
       "      <td>Azerbaijan</td>\n",
       "      <td>M</td>\n",
       "      <td>28.0</td>\n",
       "    </tr>\n",
       "    <tr>\n",
       "      <th>4</th>\n",
       "      <td>Abdusattorov, Nodirbek</td>\n",
       "      <td>14204118.0</td>\n",
       "      <td>2004-09-18 00:00:00</td>\n",
       "      <td>NaN</td>\n",
       "      <td>NaN</td>\n",
       "      <td>2018</td>\n",
       "      <td>Uzbekistan</td>\n",
       "      <td>M</td>\n",
       "      <td>14.0</td>\n",
       "    </tr>\n",
       "  </tbody>\n",
       "</table>\n",
       "</div>"
      ],
      "text/plain": [
       "                     Name     Fide ID           Nascimento Place of Birth  \\\n",
       "0          Aagaard, Jacob   1401815.0  1973-07-31 00:00:00       Hørsholm   \n",
       "1           Abasov, Nijat  13402960.0  1995-05-14 00:00:00           Baku   \n",
       "2        Abbasifar, Hasan  12501000.0  1972-09-12 00:00:00         Shiraz   \n",
       "3          Abbasov, Farid  13400665.0  1979-01-31 00:00:00           Baku   \n",
       "4  Abdusattorov, Nodirbek  14204118.0  2004-09-18 00:00:00            NaN   \n",
       "\n",
       "  Death Date they became Grandmaster          Federation Sexo  \\\n",
       "0   NaN                         2007  Denmark • Scotland    M   \n",
       "1   NaN                         2011          Azerbaijan    M   \n",
       "2   NaN                         2013                Iran    M   \n",
       "3   NaN                         2007          Azerbaijan    M   \n",
       "4   NaN                         2018          Uzbekistan    M   \n",
       "\n",
       "   Age they became Grandmaster  \n",
       "0                         34.0  \n",
       "1                         16.0  \n",
       "2                         41.0  \n",
       "3                         28.0  \n",
       "4                         14.0  "
      ]
     },
     "execution_count": 2,
     "metadata": {},
     "output_type": "execute_result"
    }
   ],
   "source": [
    "df = pd.read_csv('Grandmasters in Chess.csv')\n",
    "df.head()"
   ]
  },
  {
   "cell_type": "code",
   "execution_count": 4,
   "metadata": {},
   "outputs": [
    {
     "name": "stdout",
     "output_type": "stream",
     "text": [
      "<class 'pandas.core.frame.DataFrame'>\n",
      "RangeIndex: 1930 entries, 0 to 1929\n",
      "Data columns (total 9 columns):\n",
      " #   Column                        Non-Null Count  Dtype  \n",
      "---  ------                        --------------  -----  \n",
      " 0   Name                          1930 non-null   object \n",
      " 1   Fide ID                       1857 non-null   float64\n",
      " 2   Nascimento                    1930 non-null   object \n",
      " 3   Place of Birth                1645 non-null   object \n",
      " 4   Death                         210 non-null    object \n",
      " 5   Date they became Grandmaster  1930 non-null   object \n",
      " 6   Federation                    1930 non-null   object \n",
      " 7   Sexo                          1930 non-null   object \n",
      " 8   Age they became Grandmaster   1929 non-null   float64\n",
      "dtypes: float64(2), object(7)\n",
      "memory usage: 135.8+ KB\n"
     ]
    }
   ],
   "source": [
    "df.info()"
   ]
  },
  {
   "cell_type": "code",
   "execution_count": 5,
   "metadata": {},
   "outputs": [
    {
     "data": {
      "text/plain": [
       "Name                               0\n",
       "Fide ID                           73\n",
       "Nascimento                         0\n",
       "Place of Birth                   285\n",
       "Death                           1720\n",
       "Date they became Grandmaster       0\n",
       "Federation                         0\n",
       "Sexo                               0\n",
       "Age they became Grandmaster        1\n",
       "dtype: int64"
      ]
     },
     "execution_count": 5,
     "metadata": {},
     "output_type": "execute_result"
    }
   ],
   "source": [
    "df.isna().sum()"
   ]
  },
  {
   "cell_type": "code",
   "execution_count": null,
   "metadata": {},
   "outputs": [],
   "source": []
  }
 ],
 "metadata": {
  "kernelspec": {
   "display_name": "Python 3.10.4 64-bit",
   "language": "python",
   "name": "python3"
  },
  "language_info": {
   "codemirror_mode": {
    "name": "ipython",
    "version": 3
   },
   "file_extension": ".py",
   "mimetype": "text/x-python",
   "name": "python",
   "nbconvert_exporter": "python",
   "pygments_lexer": "ipython3",
   "version": "3.10.4"
  },
  "orig_nbformat": 4,
  "vscode": {
   "interpreter": {
    "hash": "916dbcbb3f70747c44a77c7bcd40155683ae19c65e1c03b4aa3499c5328201f1"
   }
  }
 },
 "nbformat": 4,
 "nbformat_minor": 2
}
